{
  "nbformat": 4,
  "nbformat_minor": 0,
  "metadata": {
    "colab": {
      "name": "web_scraping - books.ipynb",
      "provenance": []
    },
    "kernelspec": {
      "name": "python3",
      "display_name": "Python 3"
    },
    "language_info": {
      "name": "python"
    }
  },
  "cells": [
    {
      "cell_type": "code",
      "metadata": {
        "colab": {
          "base_uri": "https://localhost:8080/"
        },
        "id": "1xCJZOOJ93Yd",
        "outputId": "a4ba0139-a73b-4016-9479-0196a3d8dc97"
      },
      "source": [
        "!pip install selenium bs4\n",
        "!apt-get update\n",
        "!apt install chromium-chromedriver"
      ],
      "execution_count": null,
      "outputs": [
        {
          "output_type": "stream",
          "text": [
            "Collecting selenium\n",
            "\u001b[?25l  Downloading https://files.pythonhosted.org/packages/80/d6/4294f0b4bce4de0abf13e17190289f9d0613b0a44e5dd6a7f5ca98459853/selenium-3.141.0-py2.py3-none-any.whl (904kB)\n",
            "\u001b[K     |████████████████████████████████| 911kB 4.9MB/s \n",
            "\u001b[?25hRequirement already satisfied: bs4 in /usr/local/lib/python3.7/dist-packages (0.0.1)\n",
            "Requirement already satisfied: urllib3 in /usr/local/lib/python3.7/dist-packages (from selenium) (1.24.3)\n",
            "Requirement already satisfied: beautifulsoup4 in /usr/local/lib/python3.7/dist-packages (from bs4) (4.6.3)\n",
            "Installing collected packages: selenium\n",
            "Successfully installed selenium-3.141.0\n",
            "Get:1 http://security.ubuntu.com/ubuntu bionic-security InRelease [88.7 kB]\n",
            "Get:2 https://cloud.r-project.org/bin/linux/ubuntu bionic-cran40/ InRelease [3,626 B]\n",
            "Ign:3 https://developer.download.nvidia.com/compute/cuda/repos/ubuntu1804/x86_64  InRelease\n",
            "Ign:4 https://developer.download.nvidia.com/compute/machine-learning/repos/ubuntu1804/x86_64  InRelease\n",
            "Get:5 https://developer.download.nvidia.com/compute/cuda/repos/ubuntu1804/x86_64  Release [697 B]\n",
            "Hit:6 https://developer.download.nvidia.com/compute/machine-learning/repos/ubuntu1804/x86_64  Release\n",
            "Get:7 https://developer.download.nvidia.com/compute/cuda/repos/ubuntu1804/x86_64  Release.gpg [836 B]\n",
            "Hit:8 http://archive.ubuntu.com/ubuntu bionic InRelease\n",
            "Get:9 http://archive.ubuntu.com/ubuntu bionic-updates InRelease [88.7 kB]\n",
            "Get:10 https://cloud.r-project.org/bin/linux/ubuntu bionic-cran40/ Packages [60.9 kB]\n",
            "Get:11 http://security.ubuntu.com/ubuntu bionic-security/universe amd64 Packages [1,413 kB]\n",
            "Get:12 http://archive.ubuntu.com/ubuntu bionic-backports InRelease [74.6 kB]\n",
            "Get:13 http://security.ubuntu.com/ubuntu bionic-security/main amd64 Packages [2,152 kB]\n",
            "Get:15 http://security.ubuntu.com/ubuntu bionic-security/restricted amd64 Packages [423 kB]\n",
            "Ign:16 https://developer.download.nvidia.com/compute/cuda/repos/ubuntu1804/x86_64  Packages\n",
            "Get:16 https://developer.download.nvidia.com/compute/cuda/repos/ubuntu1804/x86_64  Packages [798 kB]\n",
            "Get:17 http://archive.ubuntu.com/ubuntu bionic-updates/main amd64 Packages [2,584 kB]\n",
            "Get:18 http://archive.ubuntu.com/ubuntu bionic-updates/restricted amd64 Packages [452 kB]\n",
            "Get:19 http://archive.ubuntu.com/ubuntu bionic-updates/universe amd64 Packages [2,184 kB]\n",
            "Err:20 http://ppa.launchpad.net/c2d4u.team/c2d4u4.0+/ubuntu bionic InRelease\n",
            "  Could not connect to ppa.launchpad.net:80 (91.189.95.85), connection timed out\n",
            "Err:21 http://ppa.launchpad.net/cran/libgit2/ubuntu bionic InRelease\n",
            "  Unable to connect to ppa.launchpad.net:http:\n",
            "Err:22 http://ppa.launchpad.net/deadsnakes/ppa/ubuntu bionic InRelease\n",
            "  Unable to connect to ppa.launchpad.net:http:\n",
            "Err:23 http://ppa.launchpad.net/graphics-drivers/ppa/ubuntu bionic InRelease\n",
            "  Unable to connect to ppa.launchpad.net:http:\n",
            "Fetched 10.3 MB in 30s (341 kB/s)\n",
            "Reading package lists... Done\n",
            "W: Failed to fetch http://ppa.launchpad.net/c2d4u.team/c2d4u4.0+/ubuntu/dists/bionic/InRelease  Could not connect to ppa.launchpad.net:80 (91.189.95.85), connection timed out\n",
            "W: Failed to fetch http://ppa.launchpad.net/cran/libgit2/ubuntu/dists/bionic/InRelease  Unable to connect to ppa.launchpad.net:http:\n",
            "W: Failed to fetch http://ppa.launchpad.net/deadsnakes/ppa/ubuntu/dists/bionic/InRelease  Unable to connect to ppa.launchpad.net:http:\n",
            "W: Failed to fetch http://ppa.launchpad.net/graphics-drivers/ppa/ubuntu/dists/bionic/InRelease  Unable to connect to ppa.launchpad.net:http:\n",
            "W: Some index files failed to download. They have been ignored, or old ones used instead.\n",
            "Reading package lists... Done\n",
            "Building dependency tree       \n",
            "Reading state information... Done\n",
            "The following package was automatically installed and is no longer required:\n",
            "  libnvidia-common-460\n",
            "Use 'apt autoremove' to remove it.\n",
            "The following additional packages will be installed:\n",
            "  chromium-browser chromium-browser-l10n chromium-codecs-ffmpeg-extra\n",
            "Suggested packages:\n",
            "  webaccounts-chromium-extension unity-chromium-extension\n",
            "The following NEW packages will be installed:\n",
            "  chromium-browser chromium-browser-l10n chromium-chromedriver\n",
            "  chromium-codecs-ffmpeg-extra\n",
            "0 upgraded, 4 newly installed, 0 to remove and 56 not upgraded.\n",
            "Need to get 86.6 MB of archives.\n",
            "After this operation, 300 MB of additional disk space will be used.\n",
            "Get:1 http://archive.ubuntu.com/ubuntu bionic-updates/universe amd64 chromium-codecs-ffmpeg-extra amd64 90.0.4430.93-0ubuntu0.18.04.1 [1,128 kB]\n",
            "Get:2 http://archive.ubuntu.com/ubuntu bionic-updates/universe amd64 chromium-browser amd64 90.0.4430.93-0ubuntu0.18.04.1 [76.9 MB]\n",
            "Get:3 http://archive.ubuntu.com/ubuntu bionic-updates/universe amd64 chromium-browser-l10n all 90.0.4430.93-0ubuntu0.18.04.1 [3,853 kB]\n",
            "Get:4 http://archive.ubuntu.com/ubuntu bionic-updates/universe amd64 chromium-chromedriver amd64 90.0.4430.93-0ubuntu0.18.04.1 [4,743 kB]\n",
            "Fetched 86.6 MB in 4s (22.2 MB/s)\n",
            "Selecting previously unselected package chromium-codecs-ffmpeg-extra.\n",
            "(Reading database ... 160706 files and directories currently installed.)\n",
            "Preparing to unpack .../chromium-codecs-ffmpeg-extra_90.0.4430.93-0ubuntu0.18.04.1_amd64.deb ...\n",
            "Unpacking chromium-codecs-ffmpeg-extra (90.0.4430.93-0ubuntu0.18.04.1) ...\n",
            "Selecting previously unselected package chromium-browser.\n",
            "Preparing to unpack .../chromium-browser_90.0.4430.93-0ubuntu0.18.04.1_amd64.deb ...\n",
            "Unpacking chromium-browser (90.0.4430.93-0ubuntu0.18.04.1) ...\n",
            "Selecting previously unselected package chromium-browser-l10n.\n",
            "Preparing to unpack .../chromium-browser-l10n_90.0.4430.93-0ubuntu0.18.04.1_all.deb ...\n",
            "Unpacking chromium-browser-l10n (90.0.4430.93-0ubuntu0.18.04.1) ...\n",
            "Selecting previously unselected package chromium-chromedriver.\n",
            "Preparing to unpack .../chromium-chromedriver_90.0.4430.93-0ubuntu0.18.04.1_amd64.deb ...\n",
            "Unpacking chromium-chromedriver (90.0.4430.93-0ubuntu0.18.04.1) ...\n",
            "Setting up chromium-codecs-ffmpeg-extra (90.0.4430.93-0ubuntu0.18.04.1) ...\n",
            "Setting up chromium-browser (90.0.4430.93-0ubuntu0.18.04.1) ...\n",
            "update-alternatives: using /usr/bin/chromium-browser to provide /usr/bin/x-www-browser (x-www-browser) in auto mode\n",
            "update-alternatives: using /usr/bin/chromium-browser to provide /usr/bin/gnome-www-browser (gnome-www-browser) in auto mode\n",
            "Setting up chromium-chromedriver (90.0.4430.93-0ubuntu0.18.04.1) ...\n",
            "Setting up chromium-browser-l10n (90.0.4430.93-0ubuntu0.18.04.1) ...\n",
            "Processing triggers for man-db (2.8.3-2ubuntu0.1) ...\n",
            "Processing triggers for hicolor-icon-theme (0.17-2) ...\n",
            "Processing triggers for mime-support (3.60ubuntu1) ...\n",
            "Processing triggers for libc-bin (2.27-3ubuntu1.2) ...\n",
            "/sbin/ldconfig.real: /usr/local/lib/python3.7/dist-packages/ideep4py/lib/libmkldnn.so.0 is not a symbolic link\n",
            "\n"
          ],
          "name": "stdout"
        }
      ]
    },
    {
      "cell_type": "code",
      "metadata": {
        "id": "d2A_MJFk99Z0"
      },
      "source": [
        "import selenium\n",
        "from selenium import webdriver\n",
        "from selenium.webdriver.support.ui import Select\n",
        "from selenium.webdriver.common.action_chains import ActionChains\n",
        "from selenium.webdriver import ActionChains\n",
        "from bs4 import BeautifulSoup\n",
        "import requests \n",
        "import pandas as pd\n",
        "import csv\n",
        "import time"
      ],
      "execution_count": 162,
      "outputs": []
    },
    {
      "cell_type": "code",
      "metadata": {
        "id": "BwKW-g2j-QNk"
      },
      "source": [
        "options = webdriver.ChromeOptions()\n",
        "options.add_argument('--headless')\n",
        "options.add_argument('--no-sandbox')\n",
        "options.add_argument('--disable-dev-shm-usage')"
      ],
      "execution_count": 30,
      "outputs": []
    },
    {
      "cell_type": "code",
      "metadata": {
        "id": "Ef_LsUI2_4uL"
      },
      "source": [
        "site='https://www.bookchor.com/'"
      ],
      "execution_count": 31,
      "outputs": []
    },
    {
      "cell_type": "code",
      "metadata": {
        "id": "SG5KzlqQ-XZv"
      },
      "source": [
        "wd = webdriver.Chrome('chromedriver',options=options)\n",
        "wd.get(site)"
      ],
      "execution_count": 98,
      "outputs": []
    },
    {
      "cell_type": "code",
      "metadata": {
        "id": "ey5y4FUm_UYn"
      },
      "source": [
        "categories=wd.find_element_by_class_name('dropdown-toggle')\n",
        "hover = ActionChains(wd).move_to_element(categories)\n",
        "hover.perform()"
      ],
      "execution_count": 99,
      "outputs": []
    },
    {
      "cell_type": "code",
      "metadata": {
        "colab": {
          "base_uri": "https://localhost:8080/"
        },
        "id": "tuHhD3PRKBJA",
        "outputId": "42c92517-b8fa-478f-c6d7-2ba91d123d07"
      },
      "source": [
        "category={}\n",
        "for i in range(2,18):\n",
        "  category[wd.find_element_by_xpath('/html/body/div[2]/div/div/ul/li[1]/ul/ul/li['+str(i)+']/a').get_property('title')]=wd.find_element_by_xpath('/html/body/div[2]/div/div/ul/li[1]/ul/ul/li['+str(i)+']/a').get_property('href')\n",
        "print(category)"
      ],
      "execution_count": 100,
      "outputs": [
        {
          "output_type": "stream",
          "text": [
            "{'Literature and Fiction': 'https://www.bookchor.com/category/1/Literature-and-Fiction', 'Crime and Thriller': 'https://www.bookchor.com/category/2/Crime-and-Thriller', 'Romance': 'https://www.bookchor.com/category/3/Romance', 'Classics': 'https://www.bookchor.com/category/4/Classics', 'Science Fiction': 'https://www.bookchor.com/category/5/Science-Fiction', 'Fantasy': 'https://www.bookchor.com/category/6/Fantasy', 'Young Adult': 'https://www.bookchor.com/category/7/Young-Adult', 'Childrens': 'https://www.bookchor.com/category/8/Childrens', 'Nonfiction': 'https://www.bookchor.com/category/9/Nonfiction', 'Textbooks': 'https://www.bookchor.com/category/10/Textbooks', 'Loot Store': 'https://www.bookchor.com/category/17/Loot-Store', 'Rare & Collectables': 'https://www.bookchor.com/category/18/Rare-&-Collectables', 'Popular Book Sets': 'https://www.bookchor.com/category/20/Popular-Book-Sets', 'Book Bundles': 'https://www.bookchor.com/category/25/Book-Bundles', 'Graphic Comics': 'https://www.bookchor.com/category/26/Graphic-Comics', 'Self Help and Management': 'https://www.bookchor.com/category/27/Self-Help-and-Management'}\n"
          ],
          "name": "stdout"
        }
      ]
    },
    {
      "cell_type": "code",
      "metadata": {
        "colab": {
          "base_uri": "https://localhost:8080/"
        },
        "id": "usi0V3yRjKeL",
        "outputId": "4d11c681-1e69-4b3d-bd2a-ec4ca7bd4925"
      },
      "source": [
        "genre=input()"
      ],
      "execution_count": 157,
      "outputs": [
        {
          "output_type": "stream",
          "text": [
            "Literature and Fiction\n"
          ],
          "name": "stdout"
        }
      ]
    },
    {
      "cell_type": "code",
      "metadata": {
        "id": "MEKzyVQeNeZh"
      },
      "source": [
        "wd = webdriver.Chrome('chromedriver',options=options)\n",
        "wd.get(category[str(genre)])"
      ],
      "execution_count": 158,
      "outputs": []
    },
    {
      "cell_type": "code",
      "metadata": {
        "colab": {
          "base_uri": "https://localhost:8080/"
        },
        "id": "O4p9tp5TPS7b",
        "outputId": "a76037ae-3695-421a-dc41-9aa5936d4ba2"
      },
      "source": [
        "product_item=wd.find_elements_by_class_name('col-xs-12')\n",
        "print(len(product_item))"
      ],
      "execution_count": 155,
      "outputs": [
        {
          "output_type": "stream",
          "text": [
            "32\n"
          ],
          "name": "stdout"
        }
      ]
    },
    {
      "cell_type": "code",
      "metadata": {
        "colab": {
          "base_uri": "https://localhost:8080/"
        },
        "id": "ZaXkcLiBQSFG",
        "outputId": "a7f8886e-9e89-43f1-f153-e71996b1d6a7"
      },
      "source": [
        "books =[]\n",
        "for i in product_item[1:]:\n",
        "  try:\n",
        "    url=i.find_element_by_tag_name('a').get_property('href')\n",
        "  except:\n",
        "    pass\n",
        "  if url not in books:\n",
        "    books.append(url)\n",
        "    print(url)\n",
        "print(len(books))"
      ],
      "execution_count": 156,
      "outputs": [
        {
          "output_type": "stream",
          "text": [
            "https://www.bookchor.com/book/9781310393863/Just-so-Stories\n",
            "https://www.bookchor.com/book/9781310393857/The-Galileans\n",
            "https://www.bookchor.com/book/9781310393844/LADY-WINDERMERE'S-FAN,-A-WOMAN-OF-NO-IMPORTANCE,-AN-IDEAL-HUSBAND,-THE-IMPORTANCE-OF-BEING-EARNEST,-SALOME-BY-OSCAR-WILDE\n",
            "https://www.bookchor.com/book/9781310393837/THE-KING'S-PEACE-BY-C.V.-WEDGWOOD-PAPERBACK\n",
            "https://www.bookchor.com/book/9781310393835/THE-HAUNTED-SISTERS-BY-JEAN-PLAIDY-PAPERBACK\n",
            "https://www.bookchor.com/book/9781310393827/A-TOWN-LIKE-ALICE-BY-NEVIL-SHUTE-PAPERBACK\n",
            "https://www.bookchor.com/book/9781310393823/UNDER-STRIKE-BY-JOHN-GARDNER-PAPERBACK\n",
            "https://www.bookchor.com/book/9781310393818/KIM-BY-RUDYARD-KIPLING-PAPERABACK\n",
            "https://www.bookchor.com/book/9781846272523/The-Creator\n",
            "https://www.bookchor.com/book/9780263866117/The-Heart-Won't-Lie\n",
            "https://www.bookchor.com/book/9781594747991/Stuff-Every-Golfer-Should-Know\n",
            "https://www.bookchor.com/book/9780593072561/Brief-Candle-in-the-Dark\n",
            "https://www.bookchor.com/book/9781405321358/Star-Wars-Ultimate-Sticker-Collection\n",
            "https://www.bookchor.com/book/9781310393814/Tintin-Volume-6:Destination-Moon\n",
            "https://www.bookchor.com/book/9781310393813/Tintin-Volume-7:-The-Red-Sea-Sharks\n",
            "https://www.bookchor.com/book/9780721440989/Winnie-The-Pooh's-Colour-and-shape-fun\n",
            "https://www.bookchor.com/book/9781472319883/The-Adventure-of-the-Owl-and-the-Pussycat-(Picture-Story-Book)\n",
            "https://www.bookchor.com/book/9780593053577/A-Lotus-Grows-in-the-Mud\n",
            "https://www.bookchor.com/book/9781911600466/Me-Life-Story\n",
            "19\n"
          ],
          "name": "stdout"
        }
      ]
    },
    {
      "cell_type": "code",
      "metadata": {
        "colab": {
          "base_uri": "https://localhost:8080/"
        },
        "id": "dj4TEv0dSOna",
        "outputId": "6b733692-ef4f-41b8-f92d-c13c334cd5b4"
      },
      "source": [
        "Name=[]\n",
        "Author=[]\n",
        "Availability=[]\n",
        "Description=[]\n",
        "Offer_Price=[]\n",
        "MRP=[]\n",
        "Publisher=[]\n",
        "Pages=[]\n",
        "for i in books:\n",
        "  wd = webdriver.Chrome('chromedriver',options=options)\n",
        "  wd.get(i)\n",
        "  print(i)\n",
        "  try:\n",
        "    name=wd.find_element_by_class_name('col-md-5').find_element_by_tag_name('h1').text.strip()\n",
        "  except:\n",
        "    name='Null'\n",
        "  print(name)\n",
        "  Name.append(name)\n",
        "  try:\n",
        "    author=wd.find_element_by_class_name('col-md-5').find_element_by_tag_name('h4').find_element_by_tag_name('a').text.strip()\n",
        "  except:\n",
        "    author='Null'\n",
        "  print(author)\n",
        "  Author.append(author)\n",
        "  try:\n",
        "    availability=wd.find_element_by_class_name('availability').find_element_by_tag_name('strong').text.strip()\n",
        "  except:\n",
        "    availability='Null'\n",
        "  print(availability)\n",
        "  Availability.append(availability)\n",
        "  try:\n",
        "    description=wd.find_element_by_class_name('description').text.strip()\n",
        "  except:\n",
        "    description='Null'\n",
        "  Description.append(description)\n",
        "  print(description)\n",
        "  try:\n",
        "    offer_price=wd.find_element_by_class_name('panel-title').text.split('\\n')[1].split('(')[0].strip()\n",
        "  except:\n",
        "    offer_price='Null'\n",
        "  print(offer_price)\n",
        "  Offer_Price.append(offer_price)\n",
        "  try:\n",
        "    mrp=wd.find_element_by_class_name('panel-title').text.split('\\n')[1].split('(')[1].strip().replace(')','')\n",
        "  except:\n",
        "    mrp='Null'\n",
        "  print(mrp)\n",
        "  MRP.append(mrp)\n",
        "  try:\n",
        "    additional=wd.find_element_by_class_name('datasheet').find_elements_by_tag_name('td')\n",
        "    for info in range(len(additional)):\n",
        "      try:\n",
        "        if additional[info].text=='Pages':\n",
        "          page=additional[info+1].text\n",
        "      except:\n",
        "        page='Null'\n",
        "      try:\n",
        "        if additional[info].text=='Publisher':\n",
        "          publisher=additional[info+1].text\n",
        "      except:\n",
        "        publisher='Null'\n",
        "  except:\n",
        "    page='Null'\n",
        "    publisher='Null'\n",
        "  print(publisher)\n",
        "  print(page)\n",
        "  Pages.append(page)\n",
        "  Publisher.append(publisher)\n",
        "  time.sleep(2)\n",
        "  print('--------------------')\n",
        "\n",
        "\n"
      ],
      "execution_count": 152,
      "outputs": [
        {
          "output_type": "stream",
          "text": [
            "https://www.bookchor.com/book/9781310393863/Just-so-Stories\n",
            "JUST SO STORIES\n",
            "RUDYARD KIPLING\n",
            "In Stock\n",
            "These delightful stories tell you fascinating things like how the Leopard got his spots, How the Camel got his Hump, and How the Alphabet was Made. First published in 1902 and illustrated by the author himself, this enchanting book is one of Rudyard Kipling's most famous.\n",
            "RS. 360\n",
            "RS. 899\n",
            "Piccolo\n",
            "148\n",
            "--------------------\n",
            "https://www.bookchor.com/book/9781310393857/The-Galileans\n",
            "THE GALILEANS\n",
            "FRANK G. SLAUGHTER\n",
            "In Stock\n",
            "The Galileans by Dr. Frank Slaughter reads like the masturbatory fantasy of a narcisstic Christian physician. This so-called \"Novel of Mary Magdalene\" is in actuality the imagined love story of Joseph of Arithmea and Mary Magdalene, and Joseph is the real main character here.\n",
            "RS. 270\n",
            "RS. 899\n",
            "Panther Books\n",
            "284\n",
            "--------------------\n",
            "https://www.bookchor.com/book/9781310393844/LADY-WINDERMERE'S-FAN,-A-WOMAN-OF-NO-IMPORTANCE,-AN-IDEAL-HUSBAND,-THE-IMPORTANCE-OF-BEING-EARNEST,-SALOME-BY-OSCAR-WILDE\n",
            "LADY WINDERMERE'S FAN, A WOMAN OF NO IMPORTANCE, AN IDEAL HUSBAND, THE IMPORTANCE OF BEING EARNEST, SALOME BY OSCAR WILDE\n",
            "OSCAR WILDE\n",
            "In Stock\n",
            "This Penguin collection contains Oscar Wilde's five wittiest and best known plays. he himself described lady Windermere's Fan his first great stage success, as 'one of those modern drawing-room plays with pink lampshades.'\n",
            "RS. 494\n",
            "RS. 899\n",
            "Penguin Books\n",
            "347\n",
            "--------------------\n",
            "https://www.bookchor.com/book/9781310393837/THE-KING'S-PEACE-BY-C.V.-WEDGWOOD-PAPERBACK\n",
            "THE KING'S PEACE BY C.V. WEDGWOOD-PAPERBACK\n",
            "C.V. WEDGWOOD\n",
            "In Stock\n",
            "This volume tells the story of the four eventful years which immediately preceded the Civil War, years which transformed the tranquil dominions of King Charles into a land rent by mistrust and menaced by fire and sword. It tells of the rise of the covenanters in Scotland with such leaders as the gallant Montrose and the mysterious Argyll. It tells of Parliament's opposition to the King under the skiLLful leadership of John Pym. The tragedy of Strafford is linked with the terrible insurrection in Ireland. Miss Wedgewood has sought to convey the vivid day sequence of events as they flooded down on the men & women of the time, and to restore as far as possible the immediacy of their experience.\n",
            "RS. 360\n",
            "RS. 899\n",
            "Collins\n",
            "209\n",
            "--------------------\n",
            "https://www.bookchor.com/book/9781310393835/THE-HAUNTED-SISTERS-BY-JEAN-PLAIDY-PAPERBACK\n",
            "THE HAUNTED SISTERS BY JEAN PLAIDY-PAPERBACK\n",
            "JEAN PLAIDY\n",
            "In Stock\n",
            "Married by royal arrangement to politically ambitious men, Mary and Anne Stuart are reunited when they join the revolt against their father, King James II\n",
            "RS. 280\n",
            "RS. 699\n",
            "Pan Books\n",
            "382\n",
            "--------------------\n",
            "https://www.bookchor.com/book/9781310393827/A-TOWN-LIKE-ALICE-BY-NEVIL-SHUTE-PAPERBACK\n",
            "A TOWN LIKE ALICE BY NEVIL SHUTE-PAPERBACK\n",
            "NEVIL SHUTE\n",
            "In Stock\n",
            "Nevil Shute's most beloved novel, a tale of love and war, follows its enterprising heroine from the Malayan jungle during World War II to the rugged Australian outback.\n",
            "\n",
            "Jean Paget, a young Englishwoman living in Malaya, is captured by the invading Japanese and forced on a brutal seven-month death march with dozens of other women and children. A few years after the war, Jean is back in England, the nightmare behind her. However, an unexpected inheritance inspires her to return to Malaya to give something back to the villagers who saved her life. Jean's travels leads her to a desolate Australian outpost called WilLstown, where she finds a challenge that will draw on all the resourcefulness and spirit that carried her through her war-time ordeals.\n",
            "RS. 276\n",
            "RS. 689\n",
            "Pan Books\n",
            "314\n",
            "--------------------\n",
            "https://www.bookchor.com/book/9781310393823/UNDER-STRIKE-BY-JOHN-GARDNER-PAPERBACK\n",
            "UNDER STRIKE BY JOHN GARDNER-PAPERBACK\n",
            "JOHN GARDNER\n",
            "In Stock\n",
            "The suave, womanising special agent for British Intelligence returns in his second thrilling adventure.\n",
            "\n",
            "At the height of the Cold War, Boysie is sent on a routine mission to America.\n",
            "\n",
            "In San Diego, he will be the official British observer for the test-fire of America’s latest nuclear missile: The Trepholite.\n",
            "\n",
            "But the Soviets have other plans.\n",
            "\n",
            "A double of Boysie has been sent into the field.\n",
            "\n",
            "And very soon Boysie is embroiled in a game of bluff and double-bluff involving a holocaustic missile, a slick con man - and Vladimir Solev, an deadly opponent and yet also a man in whom Boysie sees something of himself.\n",
            "\n",
            "Along the way, Boysie is mixed up with two gorgeous women - the sultry Priscilla Braddock Fairchild and the luscious Chicory Triplehouse.\n",
            "\n",
            "As he adventures across the United States, Boysie must dodge bullets, deadly predators and jealous women.\n",
            "\n",
            "And as he arrives in San Diego the clock is ticking and Operation Understrike is under way.\n",
            "\n",
            "‘Understrike’ is the second in the series of highly acclaimed spy novels featuring cowardly secret agent, Boysie Oakes. It is perfect for fans of classic British spy fiction, including Ian Fleming, Len Deighton, and Desmond Bagley.\n",
            "\n",
            "Before coming an author of fiction in the early 1960’s John Gardner was variously a stage magician, a Royal Marine officer and a journalist. In all Gardner has fifty-four novels to his credit, including Maestro, which was the New York Times book of the year. He was also invited by Ian Fleming’s literary copyright holders to write a series of continuation James Bond novels, which proved to be so successful that instead of the contracted three books he went on to publish some fourteen titles, including Licence Renewed and Icebreaker. Having lived in the Republic of Ireland, the United States and the UK, John Gardner sadly died in August of 2007 having just completed his third novel in the Moriarty trilogy, Conan Doyle’s eponymous villain of the Sherlock Holmes series.\n",
            "\n",
            "'Cool polished story-telling with all the sexy sidelines in the best James Bond tradition' Evening Standard\n",
            "\n",
            "Endeavour Press is the UK's leading independent publisher of digital books.\n",
            "RS. 298\n",
            "RS. 745\n",
            "CORGI EDITION\n",
            "175\n",
            "--------------------\n",
            "https://www.bookchor.com/book/9781310393818/KIM-BY-RUDYARD-KIPLING-PAPERABACK\n",
            "KIM BY RUDYARD KIPLING-PAPERABACK\n",
            "RUDYARD KIPLING\n",
            "In Stock\n",
            "Kim is a novel by Nobel Prize-winning English author Rudyard Kipling. It was first published serially in McClure's Magazine from December 1900 to October 1901 as well as in Cassell's Magazine from January to November 1901, and first published in book form by Macmillan & Co. Ltd in October 1901.\n",
            "RS. 320\n",
            "RS. 799\n",
            "Pan Books\n",
            "321\n",
            "--------------------\n",
            "https://www.bookchor.com/book/9781846272523/The-Creator\n",
            "THE CREATOR\n",
            "GUDRÚN EVA MÍNERVUDÓTTIR\n",
            "In Stock\n",
            "When Lóa's car gets a puncture out in the countryside, the man who lives nearest proves recalcitrantly helpful. She ends up falling asleep in his armchair and wakes to intense guilt at neglecting her daughter back in Reykjavik, followed by shock at what she finds in her helper's back room - half-finished, life-size silicone women hanging from hooks. Sveinn, her host, is a craftsman; he makes sex dolls. In his workshop Lóa is overcome with a surprising reverence, and acting on a mad notion of salvation, she steals one of the dolls for her troubled daughter Margret. For the first time ever, Lóa finds she is a thief. And worse, when her friends and family greet her plans with incredulity, she finds that there is another more awful theft, beyond her expectations and her understanding. Bereft and adrift, how can Lóa save her daughter from herself and what can she learn from Sveinn's loneliness? Two people who fear responsibility putting themselves in harm's way, Sveinn and Lóa dance a fascinating dance in this striking novel from Iceland's most celebrated young novelist.\n",
            "RS. 210\n",
            "RS. 599\n",
            "Protobello\n",
            "288\n",
            "--------------------\n",
            "https://www.bookchor.com/book/9780263866117/The-Heart-Won't-Lie\n",
            "THE HEART WON'T LIE\n",
            "MARGOT DALTON\n",
            "In Stock\n",
            "Power , wealth and influence live in the land and in the hands of one family- a dynasty driven by passion , determined to forge a bold new future!\n",
            "RS. 128\n",
            "RS. 399\n",
            "Mills & Boon\n",
            "304\n",
            "--------------------\n",
            "https://www.bookchor.com/book/9781594747991/Stuff-Every-Golfer-Should-Know\n",
            "STUFF EVERY GOLFER SHOULD KNOW\n",
            "BRIAN BERTOLDO\n",
            "In Stock\n",
            "Tips and tricks include:\n",
            "\n",
            "· How to Calculate Your Handicap\n",
            "· How to Play in the Rain\n",
            "· How to Keep Fit for Golfing\n",
            "· Games to Play within the Game\n",
            "· The Best Golf Travel Destinations\n",
            "RS. 270\n",
            "RS. 599\n",
            "Quirk Books\n",
            "144\n",
            "--------------------\n",
            "https://www.bookchor.com/book/9780593072561/Brief-Candle-in-the-Dark\n",
            "BRIEF CANDLE IN THE DARK\n",
            "RICHARD DAWKINS\n",
            "In Stock\n",
            "In An Appetite for Wonder Richard Dawkins brought us his engaging memoir of the first 35 years of his life from early childhood in Africa to publication of The Selfish Gene in 1976, when he shot to fame as one of the most exciting new scientists of his generation. In Brief Candle in the Dark he continues his autobiography, following the threads that have run through the second half of his life so far and homing in on the key individuals, institutions and ideas that inspired and motivated him.rnrnHe paints a vivid picture, coloured with wit, anecdote and digression, of the twenty-five postgraduate years he spent teaching at Oxford. He pays affectionate tribute to past colleagues and students, recalling with characteristic wry humour the idiosyncrasies of an establishment steeped in ancient tradition and arcane ritual while also recording his respect for the profound commitment to learning and discovery that lies at its core. He invites us to share the life of a travelling scientist, from fieldwork on the Panama Canal to conferences of stratospheric eminence in exotic locations in the company of some of the most prominent – and some of the most eccentric – of the world’s scientific luminaries. And he describes his experiences with his many publishers, television producers, interviewers and partners in debate, not least in the heady period when, after publication of The God Delusion in 2006, he is dubbed the world’s most outspoken and controversial atheist.rnrnMost important of all, for the first time he reviews with fresh and stimulating insights the evolving narrative of his ideas about science over the course of his highly distinguished career as thinker, teacher and writer. In Brief Candle in the Dark we are invited to enter with him a constantly stimulating world of discovery and to meet a fascinating cast of exceptional characters described by the talented pen of one of the most exceptional of them all.\n",
            "RS. 200\n",
            "RS. 499\n",
            "Bantam Press\n",
            "464\n",
            "--------------------\n",
            "https://www.bookchor.com/book/9781405321358/Star-Wars-Ultimate-Sticker-Collection\n",
            "STAR WARS ULTIMATE STICKER COLLECTION\n",
            "DK\n",
            "In Stock\n",
            "Play different Star Wars scenes again and again\n",
            "\n",
            "The story isnt over yet: now you can control the destiny of characters, locations, vehicles and creatures from all six films in the Star Wars universe  its every fans dream.\n",
            "\n",
            "Continue the Star Wars saga in your own living room, pitch foe against foe and friend against friend and create explosive new scenes in full-colour backgrounds using the 260 removable, easy-to-peel stickers.\n",
            "\n",
            "Its out-of-this-world fun! And don't forget, there's a galaxy-full of DK Star Wars books to collect.\n",
            "RS. 384\n",
            "RS. 699\n",
            "Dorling Kinderesley Limited\n",
            "56\n",
            "--------------------\n",
            "https://www.bookchor.com/book/9781310393814/Tintin-Volume-6:Destination-Moon\n",
            "TINTIN VOLUME 6:DESTINATION MOON\n",
            "HERGE\n",
            "In Stock\n",
            "Join traveling reporter Tintin and his faithful dog Snowy, along with well-known friends such as Captain Haddock, as they embark on extraordinary adventures spanning historical and political events, fantasy and science-fiction adventures and thrilling mysteries. These full-color graphic novels broke new ground when they were first released and became the inspiration for countless modern-day comic artists.\n",
            "\n",
            "This repackaged hardcover volume contains 3 classic Tintin stories, including: The Calculus Affair, The Red Sea Sharks, and Tintin in Tibet.\n",
            "RS. 3249\n",
            "RS. 4999\n",
            "Egmont\n",
            "192\n",
            "--------------------\n",
            "https://www.bookchor.com/book/9781310393813/Tintin-Volume-7:-The-Red-Sea-Sharks\n",
            "TINTIN VOLUME 7: THE RED SEA SHARKS\n",
            "HERGE\n",
            "In Stock\n",
            "Vol 7: The Calculus Affair: Strange events at Marlinspike Hall involving a dangerous sonar device and the kidnapping of Professor Calculus sends Tintin, Snowy and Captain Haddock on a dangerous rescue mission. The Red Sea Sharks: Tintin and Captain Haddock travel to Khemed to rescue the Emir from the danger of arms smugglers who have overthrown his government. Tintin in Tibet: Tintin’s friend Chang has been killed in a terrible plane crash and Tintin is distraught: But after a strange dream, Tintin becomes convinced Chang is alive.\n",
            "RS. 3249\n",
            "RS. 4999\n",
            "Egmont\n",
            "192\n",
            "--------------------\n",
            "https://www.bookchor.com/book/9780721440989/Winnie-The-Pooh's-Colour-and-shape-fun\n",
            "WINNIE THE POOH'S COLOUR AND SHAPE FUN\n",
            "LADYBIRD\n",
            "In Stock\n",
            "Pooh and his friends introduce your child to colors and shapes in this exciting and colourful book.\n",
            "RS. 119\n",
            "RS. 199\n",
            "Ladybird\n",
            "24\n",
            "--------------------\n",
            "https://www.bookchor.com/book/9781472319883/The-Adventure-of-the-Owl-and-the-Pussycat-(Picture-Story-Book)\n",
            "THE ADVENTURE OF THE OWL AND THE PUSSYCAT (PICTURE STORY BOOK)\n",
            "CORAL RUMBLE\n",
            "In Stock\n",
            "The Owl and the Pussycat went to sea in a box on the living room floor, They sailed away for a year and a day and these are things that they saw....\"\n",
            "RS. 120\n",
            "RS. 299\n",
            "Parragon Book Service Ltd\n",
            "24\n",
            "--------------------\n",
            "https://www.bookchor.com/book/9780593053577/A-Lotus-Grows-in-the-Mud\n",
            "A LOTUS GROWS IN THE MUD\n",
            "GOLDIE HAWN\n",
            "In Stock\n",
            "Goldie Hawn is a born storyteller. In this candid and insightful book, she invites us to join her in a look back at the people, places and events that have shaped her life. It is the journey of a heart in search of enlightenment. With her trademark effervescent humour, Goldie tells us about the lessons she's learned and the wisdom she feels she's been given. Not a Hollywood 'tell-all', A Lotus Grows in the Mud is rather a very personal reflection on one woman's life: Goldie's delight in her father's spirited spontaneity; the confidence instilled in her by her mother; the unexpected gifts of comfort from strangers many miles from home; and the joy of being a daughter, a sister, a lover and a parent. This is Goldie's chance to talk about everything from anger and fear to love, compassion, integrity, friendship, the importance of family and the challenges of show business. Goldie writes about her younger self - the little girl who felt like an ugly duckling - and growing up in suburbia, dreaming of becoming a ballerina. She takes us on a tour through her go-go dancing years in 1960s New York, her phenomenal success on TV's Rowan & Martin's Laugh-in, and then to the world of Hollywood stardom and her extraordinary experiences in films like the Oscar-winning Cactus Flower, Swing Shift, and Private Benjamin. In A Lotus Grows in the Mud Goldie speaks of her relationship with her family - partner Kurt Russell, her children Kate Hudson, Oliver Hudson and Wyatt Russell, and her stepson Boston - her growing faith, her curiosity about the future, and her unquenchable thirst for knowledge and understanding. Most of all, it is a trip back through a life well lived by a woman well loved.\n",
            "RS. 368\n",
            "RS. 669\n",
            "Bantam Press\n",
            "464\n",
            "--------------------\n",
            "https://www.bookchor.com/book/9781911600466/Me-Life-Story\n",
            "ME LIFE STORY\n",
            "SCARLETT MOFFATT\n",
            "In Stock\n",
            "*The Sunday Times bestseller* Fact: Did you know, over its lifespan, your sofa will witness roughly 293 arguments and 1,369 cuddles? Hiya, my name's Scarlett Moffatt and I love random facts. Almost as much as I love sitting on me sofa. You might know me best from my most famous and celebrated sit thus far on the I'm A Celebrity throne. You might also know me from all sorts of other seats, most especially my Gogglebox sofa. Well this book is my attempt at telling me life story through a whole series of them! So I'd like you right now to stop what you're doing and take a seat, whether it be in the comfort of your own home, on the top deck of the bus, on the tube (so you don't have to make eye contact with anybody) or on the throne of the house (a.k.a. the toilet). I want you to get comfortable and get ready to laugh, cry and maybe even learn a bit, as I chat to you about some of the highs and lows of me life. So grab a brew, settle down, and let's start from the very beginning...\n",
            "RS. 270\n",
            "RS. 599\n",
            "BLINK Publishing\n",
            "325\n",
            "--------------------\n"
          ],
          "name": "stdout"
        }
      ]
    },
    {
      "cell_type": "code",
      "metadata": {
        "id": "YaQhjXj1aIXx"
      },
      "source": [
        "db={\n",
        "    'Book_Site':site,\n",
        "    'Genre':genre,\n",
        "    'Books_URL':books,\n",
        "    'Name':Name,\n",
        "    'Author':Author,\n",
        "    'Availability':Availability,\n",
        "    'Description':Description,\n",
        "    'Offer_Price':Offer_Price,\n",
        "    'MRP':MRP,\n",
        "    'Publisher':Publisher,\n",
        "    'Pages':Pages\n",
        "}"
      ],
      "execution_count": 160,
      "outputs": []
    },
    {
      "cell_type": "code",
      "metadata": {
        "colab": {
          "base_uri": "https://localhost:8080/",
          "height": 432
        },
        "id": "XvkeJn-6j5Yh",
        "outputId": "3dcf039a-c108-4ddc-aa45-02b99328b32e"
      },
      "source": [
        "book_dataset=pd.DataFrame(db)\n",
        "book_dataset.head()"
      ],
      "execution_count": 161,
      "outputs": [
        {
          "output_type": "execute_result",
          "data": {
            "text/html": [
              "<div>\n",
              "<style scoped>\n",
              "    .dataframe tbody tr th:only-of-type {\n",
              "        vertical-align: middle;\n",
              "    }\n",
              "\n",
              "    .dataframe tbody tr th {\n",
              "        vertical-align: top;\n",
              "    }\n",
              "\n",
              "    .dataframe thead th {\n",
              "        text-align: right;\n",
              "    }\n",
              "</style>\n",
              "<table border=\"1\" class=\"dataframe\">\n",
              "  <thead>\n",
              "    <tr style=\"text-align: right;\">\n",
              "      <th></th>\n",
              "      <th>Book_Site</th>\n",
              "      <th>Genre</th>\n",
              "      <th>Books_URL</th>\n",
              "      <th>Name</th>\n",
              "      <th>Author</th>\n",
              "      <th>Availability</th>\n",
              "      <th>Description</th>\n",
              "      <th>Offer_Price</th>\n",
              "      <th>MRP</th>\n",
              "      <th>Publisher</th>\n",
              "      <th>Pages</th>\n",
              "    </tr>\n",
              "  </thead>\n",
              "  <tbody>\n",
              "    <tr>\n",
              "      <th>0</th>\n",
              "      <td>https://www.bookchor.com/</td>\n",
              "      <td>Literature and Fiction</td>\n",
              "      <td>https://www.bookchor.com/book/9781310393863/Ju...</td>\n",
              "      <td>JUST SO STORIES</td>\n",
              "      <td>RUDYARD KIPLING</td>\n",
              "      <td>In Stock</td>\n",
              "      <td>These delightful stories tell you fascinating ...</td>\n",
              "      <td>RS. 360</td>\n",
              "      <td>RS. 899</td>\n",
              "      <td>Piccolo</td>\n",
              "      <td>148</td>\n",
              "    </tr>\n",
              "    <tr>\n",
              "      <th>1</th>\n",
              "      <td>https://www.bookchor.com/</td>\n",
              "      <td>Literature and Fiction</td>\n",
              "      <td>https://www.bookchor.com/book/9781310393857/Th...</td>\n",
              "      <td>THE GALILEANS</td>\n",
              "      <td>FRANK G. SLAUGHTER</td>\n",
              "      <td>In Stock</td>\n",
              "      <td>The Galileans by Dr. Frank Slaughter reads lik...</td>\n",
              "      <td>RS. 270</td>\n",
              "      <td>RS. 899</td>\n",
              "      <td>Panther Books</td>\n",
              "      <td>284</td>\n",
              "    </tr>\n",
              "    <tr>\n",
              "      <th>2</th>\n",
              "      <td>https://www.bookchor.com/</td>\n",
              "      <td>Literature and Fiction</td>\n",
              "      <td>https://www.bookchor.com/book/9781310393844/LA...</td>\n",
              "      <td>LADY WINDERMERE'S FAN, A WOMAN OF NO IMPORTANC...</td>\n",
              "      <td>OSCAR WILDE</td>\n",
              "      <td>In Stock</td>\n",
              "      <td>This Penguin collection contains Oscar Wilde's...</td>\n",
              "      <td>RS. 494</td>\n",
              "      <td>RS. 899</td>\n",
              "      <td>Penguin Books</td>\n",
              "      <td>347</td>\n",
              "    </tr>\n",
              "    <tr>\n",
              "      <th>3</th>\n",
              "      <td>https://www.bookchor.com/</td>\n",
              "      <td>Literature and Fiction</td>\n",
              "      <td>https://www.bookchor.com/book/9781310393837/TH...</td>\n",
              "      <td>THE KING'S PEACE BY C.V. WEDGWOOD-PAPERBACK</td>\n",
              "      <td>C.V. WEDGWOOD</td>\n",
              "      <td>In Stock</td>\n",
              "      <td>This volume tells the story of the four eventf...</td>\n",
              "      <td>RS. 360</td>\n",
              "      <td>RS. 899</td>\n",
              "      <td>Collins</td>\n",
              "      <td>209</td>\n",
              "    </tr>\n",
              "    <tr>\n",
              "      <th>4</th>\n",
              "      <td>https://www.bookchor.com/</td>\n",
              "      <td>Literature and Fiction</td>\n",
              "      <td>https://www.bookchor.com/book/9781310393835/TH...</td>\n",
              "      <td>THE HAUNTED SISTERS BY JEAN PLAIDY-PAPERBACK</td>\n",
              "      <td>JEAN PLAIDY</td>\n",
              "      <td>In Stock</td>\n",
              "      <td>Married by royal arrangement to politically am...</td>\n",
              "      <td>RS. 280</td>\n",
              "      <td>RS. 699</td>\n",
              "      <td>Pan Books</td>\n",
              "      <td>382</td>\n",
              "    </tr>\n",
              "  </tbody>\n",
              "</table>\n",
              "</div>"
            ],
            "text/plain": [
              "                   Book_Site                   Genre  ...      Publisher Pages\n",
              "0  https://www.bookchor.com/  Literature and Fiction  ...        Piccolo   148\n",
              "1  https://www.bookchor.com/  Literature and Fiction  ...  Panther Books   284\n",
              "2  https://www.bookchor.com/  Literature and Fiction  ...  Penguin Books   347\n",
              "3  https://www.bookchor.com/  Literature and Fiction  ...        Collins   209\n",
              "4  https://www.bookchor.com/  Literature and Fiction  ...      Pan Books   382\n",
              "\n",
              "[5 rows x 11 columns]"
            ]
          },
          "metadata": {
            "tags": []
          },
          "execution_count": 161
        }
      ]
    },
    {
      "cell_type": "code",
      "metadata": {
        "id": "QQTIu8r3kIw9"
      },
      "source": [
        "book_dataset.to_csv('Book('+genre+').csv')"
      ],
      "execution_count": 165,
      "outputs": []
    },
    {
      "cell_type": "code",
      "metadata": {
        "id": "DajGZl2bkqG6"
      },
      "source": [
        ""
      ],
      "execution_count": null,
      "outputs": []
    }
  ]
}