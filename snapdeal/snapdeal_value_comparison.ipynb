{
  "nbformat": 4,
  "nbformat_minor": 0,
  "metadata": {
    "colab": {
      "name": "snapdeal_value_comparison.ipynb",
      "provenance": []
    },
    "kernelspec": {
      "name": "python3",
      "display_name": "Python 3"
    },
    "language_info": {
      "name": "python"
    }
  },
  "cells": [
    {
      "cell_type": "code",
      "metadata": {
        "id": "apgHE8ONxRn4"
      },
      "source": [
        "!pip install selenium\n",
        "!apt-get update\n",
        "!apt install chromium-chromedriver"
      ],
      "execution_count": null,
      "outputs": []
    },
    {
      "cell_type": "code",
      "metadata": {
        "id": "hWk7TrA4Wa9-"
      },
      "source": [
        "import selenium\n",
        "from selenium import webdriver as wb\n",
        "from selenium.webdriver.support.ui import Select\n",
        "from selenium.webdriver import ActionChains\n",
        "import pandas as pd\n",
        "import time\n",
        "from selenium import webdriver\n",
        "from selenium.webdriver.common.action_chains import ActionChains\n",
        "from bs4 import BeautifulSoup\n",
        "import requests "
      ],
      "execution_count": null,
      "outputs": []
    },
    {
      "cell_type": "code",
      "metadata": {
        "id": "oC3-rxNEWg4h"
      },
      "source": [
        "options = wb.ChromeOptions()\n",
        "options.add_argument('--headless')\n",
        "options.add_argument('--no-sandbox')\n",
        "options.add_argument('--disable-dev-shm-usage')"
      ],
      "execution_count": null,
      "outputs": []
    },
    {
      "cell_type": "code",
      "metadata": {
        "id": "vCPkhFk6Sfcv"
      },
      "source": [
        "options.add_argument(\"--enable-javascript\")"
      ],
      "execution_count": null,
      "outputs": []
    },
    {
      "cell_type": "code",
      "metadata": {
        "id": "AHiwboCaWZtn"
      },
      "source": [
        "trial = wb.Chrome('chromedriver',options=options)"
      ],
      "execution_count": null,
      "outputs": []
    },
    {
      "cell_type": "code",
      "metadata": {
        "id": "ppylkGZ1tLR8"
      },
      "source": [
        "s='https://www.snapdeal.com/?utm_term=502014221183_57444771733_%7Bbidstrategy%7D&gclid=Cj0KCQjwwLKFBhDPARIsAPzPi-IOBC5nI9Bn2FGXMli26lyGLnxWjOYvhknUh7eS4yWk0bjlibUBouwaAvZZEALw_wcB&utm_campaign=brand_account_brandcat_maxcv_1d_ftu&utm_source=earth_sembrand&utm_medium=snapdeal'"
      ],
      "execution_count": null,
      "outputs": []
    },
    {
      "cell_type": "code",
      "metadata": {
        "id": "1NSFwDlBXFwv"
      },
      "source": [
        "trial.get(s)"
      ],
      "execution_count": null,
      "outputs": []
    },
    {
      "cell_type": "code",
      "metadata": {
        "id": "F2zUOqMNuM1Y"
      },
      "source": [
        "element_to_hover_over = trial.find_elements_by_class_name('leftCategoriesProduct')\n",
        "hover = ActionChains(trial).move_to_element(element_to_hover_over[2])\n",
        "hover.perform()"
      ],
      "execution_count": null,
      "outputs": []
    },
    {
      "cell_type": "code",
      "metadata": {
        "id": "u1xDAQ59Z1zS"
      },
      "source": [
        "a=trial.find_element_by_id('category3Data').find_elements_by_tag_name('p')"
      ],
      "execution_count": null,
      "outputs": []
    },
    {
      "cell_type": "code",
      "metadata": {
        "id": "MuESZiG3g0Mq"
      },
      "source": [
        "for i in a:\n",
        "  print(i.text)"
      ],
      "execution_count": null,
      "outputs": []
    },
    {
      "cell_type": "code",
      "metadata": {
        "id": "QjB6yMiyzYLD"
      },
      "source": [
        "lin=a[0].find_element_by_tag_name('a').get_property('href') #take 'a' according to the requirement ex: a[0]=television\n",
        "print(lin)"
      ],
      "execution_count": null,
      "outputs": []
    },
    {
      "cell_type": "code",
      "metadata": {
        "id": "xeutbz581PNt"
      },
      "source": [
        " trial.get(lin)"
      ],
      "execution_count": null,
      "outputs": []
    },
    {
      "cell_type": "code",
      "metadata": {
        "id": "KUDSx6AUyhh8"
      },
      "source": [
        "SCROLL_PAUSE_TIME = 5\n",
        "last_height = trial.execute_script(\"return document.body.scrollHeight\")\n",
        "\n",
        "while True:\n",
        "    # Scroll down to bottom\n",
        "    trial.execute_script(\"window.scrollTo(0, document.body.scrollHeight);\")\n",
        "\n",
        "    # Wait to load page\n",
        "    time.sleep(SCROLL_PAUSE_TIME)\n",
        "\n",
        "    # Calculate new scroll height and compare with last scroll height\n",
        "    new_height = trial.execute_script(\"return document.body.scrollHeight\")\n",
        "    if new_height!= last_height:\n",
        "        break\n",
        "    last_height = new_height"
      ],
      "execution_count": null,
      "outputs": []
    },
    {
      "cell_type": "code",
      "metadata": {
        "colab": {
          "base_uri": "https://localhost:8080/"
        },
        "id": "ObupuykbxXEO",
        "outputId": "b3c54d37-282a-4597-b816-18e059f13bdb"
      },
      "source": [
        "pn=trial.find_elements_by_class_name('product-desc-rating ')\n",
        "print(len(pn))"
      ],
      "execution_count": null,
      "outputs": [
        {
          "output_type": "stream",
          "text": [
            "64\n"
          ],
          "name": "stdout"
        }
      ]
    },
    {
      "cell_type": "code",
      "metadata": {
        "id": "3chlGoSxw3NP"
      },
      "source": [
        ""
      ],
      "execution_count": null,
      "outputs": []
    },
    {
      "cell_type": "code",
      "metadata": {
        "id": "67HDN62TxYh5"
      },
      "source": [
        "links=[]\n",
        "rating_no=[]\n",
        "for j in pn:\n",
        "  links.append(j.find_element_by_tag_name('a').get_property('href'))\n",
        "  print(j.find_element_by_tag_name('a').get_property('href'))\n",
        "link=list(set(links))\n",
        "print(len(link))"
      ],
      "execution_count": null,
      "outputs": []
    },
    {
      "cell_type": "code",
      "metadata": {
        "id": "Q8EgG42_lPee"
      },
      "source": [
        "prod_name=[]\n",
        "model_no=[]\n",
        "rating=[]\n",
        "review=[]\n",
        "rating_count=[]\n",
        "MRP=[]\n",
        "offer_price=[]\n",
        "save=[]\n",
        "EMI=[]\n",
        "delivery=[]\n",
        "return_policy=[]\n",
        "warranty=[]\n",
        "brand=[]\n",
        "for url in link:\n",
        "  trial = wb.Chrome('chromedriver',options=options)\n",
        "  trial.get(url)\n",
        "  req=requests.get(url)\n",
        "  soup=BeautifulSoup(req.content,'lxml')\n",
        "  print(url)\n",
        "  try:\n",
        "    pn = trial.find_element_by_class_name('pdp-e-i-head').text.strip()\n",
        "  except:\n",
        "    pn='Null'\n",
        "  prod_name.append(pn)\n",
        "  print(pn)\n",
        "  try:\n",
        "    br=trial.find_element_by_class_name('detailssubbox').text.split('Brand')[1].split('\\n')[0].strip()\n",
        "  except:\n",
        "    br='Null'\n",
        "  brand.append(br)\n",
        "  print(br)\n",
        "  try:\n",
        "    mn=trial.find_element_by_class_name('detailssubbox').text.split('Model Name')[1].split('\\n')[0].strip()\n",
        "  except:\n",
        "    try:\n",
        "      mn=trial.find_element_by_class_name('detailssubbox').text.split('Model')[1].split('\\n')[0].strip()\n",
        "    except:\n",
        "      mn='Null'\n",
        "  model_no.append(mn)\n",
        "  print(mn)\n",
        "  try:\n",
        "    rat=soup.find('div',class_='pdp-elec-topcenter-inner').find('span',{\"itemprop\":\"ratingValue\"}).text\n",
        "  except:\n",
        "    rat='Null'\n",
        "  rating.append(rat)\n",
        "  print(rat)\n",
        "\n",
        "  try:\n",
        "    rat_c=soup.find('div',class_='pdp-elec-topcenter-inner').find('span',{\"itemprop\":\"ratingCount\"}).text\n",
        "  except:\n",
        "    rat_c='Null'\n",
        "  rating_count.append(rat_c)\n",
        "  print(rat_c)\n",
        "  try:\n",
        "    rev=soup.find('div',class_='pdp-elec-topcenter-inner').find('span',{\"itemprop\":\"reviewCount\"}).text\n",
        "  except:\n",
        "    rev='Null'\n",
        "  print(rev)\n",
        "  review.append(rev)\n",
        "  try:\n",
        "    mrp=trial.find_element_by_class_name('pdpCutPrice').text.strip()\n",
        "  except:\n",
        "    mrp='Null'\n",
        "  MRP.append(mrp)\n",
        "  print(mrp)\n",
        "  try:\n",
        "    op=trial.find_element_by_class_name('pdp-final-price').text.strip()\n",
        "  except:\n",
        "    op='Null'\n",
        "  offer_price.append(op)\n",
        "  print(op)\n",
        "  try:\n",
        "    sv=trial.find_element_by_class_name('pdpDiscount').text.strip()\n",
        "  except:\n",
        "    sv='Null'\n",
        "  save.append(sv)\n",
        "  print(sv)\n",
        "  try:\n",
        "    emi=trial.find_element_by_class_name('emi-price').text.strip()\n",
        "  except:\n",
        "    emi='Null'\n",
        "  EMI.append(emi)\n",
        "  print(emi)\n",
        "  try:\n",
        "    dv=trial.find_element_by_class_name('expect-delvry').text.strip()\n",
        "  except:\n",
        "    dv='Null'\n",
        "  delivery.append(dv)\n",
        "  print(dv)\n",
        "  try:\n",
        "    rp=trial.find_element_by_class_name('pe-head').text.strip()\n",
        "  except:\n",
        "    rp='Null'\n",
        "  return_policy.append(rp)\n",
        "  print(rp)\n",
        "  try:\n",
        "    wr=trial.find_element_by_class_name('detailssubbox').text.split('Warranty Period (In Years)')[1].split('\\n')[0].strip()\n",
        "  except:\n",
        "    wr='Null'\n",
        "  warranty.append(wr)\n",
        "  print(wr)\n",
        "\n"
      ],
      "execution_count": null,
      "outputs": []
    },
    {
      "cell_type": "code",
      "metadata": {
        "colab": {
          "base_uri": "https://localhost:8080/"
        },
        "id": "ZG6XR-mtgh2h",
        "outputId": "58f181cc-83da-473d-c0ce-a5cecb388864"
      },
      "source": [
        "print(len(link))"
      ],
      "execution_count": null,
      "outputs": [
        {
          "output_type": "stream",
          "text": [
            "64\n"
          ],
          "name": "stdout"
        }
      ]
    },
    {
      "cell_type": "code",
      "metadata": {
        "id": "j0XuZZJ3gDoT"
      },
      "source": [
        "df={\n",
        "    'category':'television', #need to modify according to the a\n",
        "    'product_url':link,\n",
        "    'product_name':prod_name,\n",
        "    'model_no':model_no,\n",
        "    'star':rating,\n",
        "    'rating':rating_count,\n",
        "    'review':review,\n",
        "    'brand':brand,\n",
        "    'MRP':MRP,\n",
        "    'offer_price':offer_price,\n",
        "    'save_percentage':save,\n",
        "    'EMI':EMI,\n",
        "    'delivery':delivery,\n",
        "    'warranty':warranty,\n",
        "    'return_policy':return_policy\n",
        "}"
      ],
      "execution_count": null,
      "outputs": []
    },
    {
      "cell_type": "code",
      "metadata": {
        "colab": {
          "base_uri": "https://localhost:8080/",
          "height": 551
        },
        "id": "h9mJetG7hMJ2",
        "outputId": "92ba0076-9f3b-41ec-bb32-6c457c006871"
      },
      "source": [
        "dataset_vc=pd.DataFrame(df)\n",
        "dataset_vc.head()"
      ],
      "execution_count": null,
      "outputs": [
        {
          "output_type": "execute_result",
          "data": {
            "text/html": [
              "<div>\n",
              "<style scoped>\n",
              "    .dataframe tbody tr th:only-of-type {\n",
              "        vertical-align: middle;\n",
              "    }\n",
              "\n",
              "    .dataframe tbody tr th {\n",
              "        vertical-align: top;\n",
              "    }\n",
              "\n",
              "    .dataframe thead th {\n",
              "        text-align: right;\n",
              "    }\n",
              "</style>\n",
              "<table border=\"1\" class=\"dataframe\">\n",
              "  <thead>\n",
              "    <tr style=\"text-align: right;\">\n",
              "      <th></th>\n",
              "      <th>category</th>\n",
              "      <th>product_url</th>\n",
              "      <th>product_name</th>\n",
              "      <th>model_no</th>\n",
              "      <th>star</th>\n",
              "      <th>rating</th>\n",
              "      <th>review</th>\n",
              "      <th>brand</th>\n",
              "      <th>MRP</th>\n",
              "      <th>offer_price</th>\n",
              "      <th>save_percentage</th>\n",
              "      <th>EMI</th>\n",
              "      <th>delivery</th>\n",
              "      <th>warranty</th>\n",
              "      <th>return_policy</th>\n",
              "    </tr>\n",
              "  </thead>\n",
              "  <tbody>\n",
              "    <tr>\n",
              "      <th>0</th>\n",
              "      <td>television</td>\n",
              "      <td>https://www.snapdeal.com/product/destine-ds32h...</td>\n",
              "      <td>destine DS-32HD-21 81 cm ( 32 ) Full HD (FHD) ...</td>\n",
              "      <td>DS-32HD-21</td>\n",
              "      <td>Null</td>\n",
              "      <td>Null</td>\n",
              "      <td>Null</td>\n",
              "      <td>destine</td>\n",
              "      <td>MRP  Rs. 19,000  (Inclusive of all taxes)</td>\n",
              "      <td>Rs. 13500</td>\n",
              "      <td>29% OFF</td>\n",
              "      <td>EMI starts at Rs. 641 /month.</td>\n",
              "      <td>Generally delivered in 9 - 13 days</td>\n",
              "      <td>1</td>\n",
              "      <td>7 Days Easy Returns</td>\n",
              "    </tr>\n",
              "    <tr>\n",
              "      <th>1</th>\n",
              "      <td>television</td>\n",
              "      <td>https://www.snapdeal.com/product/destine-ds24h...</td>\n",
              "      <td>destine DS-24HD21 60.96 cm ( 24 ) HD Ready (HD...</td>\n",
              "      <td>DS-24HD21</td>\n",
              "      <td>Null</td>\n",
              "      <td>Null</td>\n",
              "      <td>Null</td>\n",
              "      <td>destine</td>\n",
              "      <td>MRP  Rs. 19,000  (Inclusive of all taxes)</td>\n",
              "      <td>Rs. 10500</td>\n",
              "      <td>45% OFF</td>\n",
              "      <td>EMI starts at Rs. 499 /month.</td>\n",
              "      <td>Generally delivered in 9 - 13 days</td>\n",
              "      <td>1</td>\n",
              "      <td>7 Days Easy Returns</td>\n",
              "    </tr>\n",
              "    <tr>\n",
              "      <th>2</th>\n",
              "      <td>television</td>\n",
              "      <td>https://www.snapdeal.com/product/lg-43lj522t-1...</td>\n",
              "      <td>LG 43LJ522T 103 cm ( 43 ) Full HD (FHD) LED Te...</td>\n",
              "      <td>43LJ522T</td>\n",
              "      <td>Null</td>\n",
              "      <td>Null</td>\n",
              "      <td>Null</td>\n",
              "      <td>LG</td>\n",
              "      <td></td>\n",
              "      <td>Rs. 39000</td>\n",
              "      <td></td>\n",
              "      <td>EMI starts at Rs. 1854 /month.</td>\n",
              "      <td>Generally delivered in 5 - 9 days</td>\n",
              "      <td>1</td>\n",
              "      <td>7 Days Easy Returns</td>\n",
              "    </tr>\n",
              "    <tr>\n",
              "      <th>3</th>\n",
              "      <td>television</td>\n",
              "      <td>https://www.snapdeal.com/product/cinevista-cin...</td>\n",
              "      <td>Cinevista 43\" SMART 109.22 cm ( 43 ) Smart Ful...</td>\n",
              "      <td>43\" SMART</td>\n",
              "      <td>Null</td>\n",
              "      <td>Null</td>\n",
              "      <td>Null</td>\n",
              "      <td>Cinevista</td>\n",
              "      <td>MRP  Rs. 42,990  (Inclusive of all taxes)</td>\n",
              "      <td>Rs. 24041</td>\n",
              "      <td>44% OFF</td>\n",
              "      <td>EMI starts at Rs. 1142 /month.</td>\n",
              "      <td>Generally delivered in 7 - 11 days</td>\n",
              "      <td>1 year</td>\n",
              "      <td>7 Days Easy Returns</td>\n",
              "    </tr>\n",
              "    <tr>\n",
              "      <th>4</th>\n",
              "      <td>television</td>\n",
              "      <td>https://www.snapdeal.com/product/destine-ds32s...</td>\n",
              "      <td>destine DS-32SMFL21 80 cm ( 32 ) HD Ready (HDR...</td>\n",
              "      <td>DS-32SMFL21</td>\n",
              "      <td>Null</td>\n",
              "      <td>Null</td>\n",
              "      <td>Null</td>\n",
              "      <td>destine</td>\n",
              "      <td>MRP  Rs. 19,800  (Inclusive of all taxes)</td>\n",
              "      <td>Rs. 15000</td>\n",
              "      <td>24% OFF</td>\n",
              "      <td>EMI starts at Rs. 713 /month.</td>\n",
              "      <td>Generally delivered in 9 - 13 days</td>\n",
              "      <td>2</td>\n",
              "      <td>7 Days Easy Returns</td>\n",
              "    </tr>\n",
              "  </tbody>\n",
              "</table>\n",
              "</div>"
            ],
            "text/plain": [
              "     category  ...        return_policy\n",
              "0  television  ...  7 Days Easy Returns\n",
              "1  television  ...  7 Days Easy Returns\n",
              "2  television  ...  7 Days Easy Returns\n",
              "3  television  ...  7 Days Easy Returns\n",
              "4  television  ...  7 Days Easy Returns\n",
              "\n",
              "[5 rows x 15 columns]"
            ]
          },
          "metadata": {
            "tags": []
          },
          "execution_count": 141
        }
      ]
    },
    {
      "cell_type": "code",
      "metadata": {
        "id": "Ba79hN1ShVp-"
      },
      "source": [
        "import csv"
      ],
      "execution_count": null,
      "outputs": []
    },
    {
      "cell_type": "code",
      "metadata": {
        "id": "hsmbNm6phkul"
      },
      "source": [
        "dataset_vc.to_csv('television_snapdeal.csv') # modify category"
      ],
      "execution_count": null,
      "outputs": []
    },
    {
      "cell_type": "markdown",
      "metadata": {
        "id": "PueMA9Q32xLx"
      },
      "source": [
        ""
      ]
    }
  ]
}